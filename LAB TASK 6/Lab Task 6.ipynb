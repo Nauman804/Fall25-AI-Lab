{
 "cells": [
  {
   "cell_type": "code",
   "execution_count": 11,
   "id": "b01cefe8",
   "metadata": {},
   "outputs": [
    {
     "name": "stdout",
     "output_type": "stream",
     "text": [
      "BFS order: ['A', 'B', 'C', 'D', 'E', 'F']\n"
     ]
    }
   ],
   "source": [
    "def bfs_without_queue(graph, start):\n",
    "    visited = set()\n",
    "    order = []                 \n",
    "    current_level = [start]    \n",
    "\n",
    "    visited.add(start)\n",
    "    while current_level:\n",
    "        next_level = []\n",
    "        for curr in current_level:\n",
    "            order.append(curr)         \n",
    "            for nb in graph.get(curr, []):\n",
    "                if nb not in visited:\n",
    "                    visited.add(nb)\n",
    "                    next_level.append(nb)\n",
    "        current_level = next_level\n",
    "\n",
    "    return order\n",
    "\n",
    "\n",
    "if __name__ == \"__main__\":\n",
    "    g = {\n",
    "        'A': ['B', 'C'],\n",
    "        'B': ['D', 'E'],\n",
    "        'C': ['F'],\n",
    "        'D': [],\n",
    "        'E': ['F'],\n",
    "        'F': []\n",
    "    }\n",
    "\n",
    "    result = bfs_without_queue(g, 'A')\n",
    "    print(\"BFS order:\", result)\n"
   ]
  },
  {
   "cell_type": "code",
   "execution_count": null,
   "id": "eb8722fb",
   "metadata": {},
   "outputs": [
    {
     "name": "stdout",
     "output_type": "stream",
     "text": [
      "BFS Traversal: ['A', 'B', 'C', 'D', 'E', 'F']\n"
     ]
    }
   ],
   "source": [
    "def bfs(graph, start):\n",
    "    visited = []       \n",
    "    queue = []         \n",
    "    order = []         \n",
    "\n",
    "    visited.append(start)\n",
    "    queue.append(start)\n",
    "\n",
    "    while queue:\n",
    "        node = queue.pop(0)   \n",
    "        order.append(node)\n",
    "\n",
    "        for nb in graph.get(node, []):\n",
    "            if nb not in visited:\n",
    "                visited.append(nb)\n",
    "                queue.append(nb)\n",
    "\n",
    "    return order\n",
    "\n",
    "if __name__ == \"__main__\":\n",
    "    g = {\n",
    "        'A': ['B', 'C'],\n",
    "        'B': ['D', 'E'],\n",
    "        'C': ['F'],\n",
    "        'D': [],\n",
    "        'E': ['F'],\n",
    "        'F': []\n",
    "    }\n",
    "\n",
    "    ans = bfs(g, 'A')\n",
    "    print(\"BFS Traversal:\", ans)\n"
   ]
  }
 ],
 "metadata": {
  "kernelspec": {
   "display_name": "base",
   "language": "python",
   "name": "python3"
  },
  "language_info": {
   "codemirror_mode": {
    "name": "ipython",
    "version": 3
   },
   "file_extension": ".py",
   "mimetype": "text/x-python",
   "name": "python",
   "nbconvert_exporter": "python",
   "pygments_lexer": "ipython3",
   "version": "3.12.7"
  }
 },
 "nbformat": 4,
 "nbformat_minor": 5
}

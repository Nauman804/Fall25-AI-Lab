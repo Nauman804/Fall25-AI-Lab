{
 "cells": [
  {
   "cell_type": "code",
   "execution_count": 3,
   "id": "8589f960",
   "metadata": {},
   "outputs": [
    {
     "name": "stdout",
     "output_type": "stream",
     "text": [
      "your to-do list: ['noman ', 'gokboru', 'ali']\n"
     ]
    }
   ],
   "source": [
    "todo =[]\n",
    "while True:\n",
    "    task =input(\"enter task\")\n",
    "    if task == \"exit\":\n",
    "        break\n",
    "    elif task == \"show\":\n",
    "        print (\"your to-do list:\",todo)\n",
    "    else:\n",
    "        todo.append(task)\n"
   ]
  },
  {
   "cell_type": "code",
   "execution_count": 2,
   "id": "cef08d22",
   "metadata": {},
   "outputs": [
    {
     "name": "stdout",
     "output_type": "stream",
     "text": [
      "Dynamic calculator\n",
      "result = 40\n"
     ]
    }
   ],
   "source": [
    "print(\"Dynamic calculator\")\n",
    "expr =input(\"enter value\")\n",
    "try:\n",
    "    result =eval(expr)\n",
    "    print(\"result =\",result)\n",
    "except:\n",
    "    print(\"invalid expression\")"
   ]
  }
 ],
 "metadata": {
  "kernelspec": {
   "display_name": "base",
   "language": "python",
   "name": "python3"
  },
  "language_info": {
   "codemirror_mode": {
    "name": "ipython",
    "version": 3
   },
   "file_extension": ".py",
   "mimetype": "text/x-python",
   "name": "python",
   "nbconvert_exporter": "python",
   "pygments_lexer": "ipython3",
   "version": "3.12.7"
  }
 },
 "nbformat": 4,
 "nbformat_minor": 5
}

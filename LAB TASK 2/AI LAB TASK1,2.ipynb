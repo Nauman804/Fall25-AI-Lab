{
 "cells": [
  {
   "cell_type": "code",
   "execution_count": null,
   "id": "5c9fa5ba",
   "metadata": {},
   "outputs": [
    {
     "name": "stdout",
     "output_type": "stream",
     "text": [
      "\n",
      "The average budget is: $190,500,000\n",
      "\n",
      "Movies with higher than average budget:\n",
      "- Pirates of the Caribbean: On Stranger Tides: $379,000,000 (which is $188,500,000 above average)\n",
      "- Avengers: Age of Ultron: $365,000,000 (which is $174,500,000 above average)\n",
      "- Avengers: Endgame: $356,000,000 (which is $165,500,000 above average)\n",
      "- Incredibles 2: $200,000,000 (which is $9,500,000 above average)\n",
      "- Pirates of the Caribbean: On Stranger Tides: $379,000,000 (which is $188,500,000 above average)\n",
      "- Avengers: Age of Ultron: $365,000,000 (which is $174,500,000 above average)\n",
      "- Avengers: Endgame: $356,000,000 (which is $165,500,000 above average)\n",
      "- Incredibles 2: $200,000,000 (which is $9,500,000 above average)\n",
      "\n",
      "Number of movies above average budget: 8\n"
     ]
    }
   ],
   "source": [
    "movies = [\n",
    "    (\"Eternal Sunshine of the Spotless Mind\", 20000000),\n",
    "    (\"Memento\", 9000000),\n",
    "    (\"Requiem for a Dream\", 4500000),\n",
    "    (\"Pirates of the Caribbean: On Stranger Tides\", 379000000),\n",
    "    (\"Avengers: Age of Ultron\", 365000000),\n",
    "    (\"Avengers: Endgame\", 356000000),\n",
    "    (\"Incredibles 2\", 200000000)\n",
    "]\n",
    "\n",
    "add_count = int(input(\" 7 \"))\n",
    "\n",
    "for i in range(add_count):\n",
    "    title = input(\"Movie title: \")\n",
    "    budget = int(input(\"Movie budget: \"))\n",
    "    movies.append((title, budget))\n",
    "\n",
    "total_budget = 0\n",
    "for movie in movies:\n",
    "    total_budget += movie[1]\n",
    "\n",
    "average_budget = total_budget / len(movies)\n",
    "print(f\"\\nThe average budget is: ${average_budget:,.0f}\")\n",
    "\n",
    "print(\"\\nMovies with higher than average budget:\")\n",
    "above_average_count = 0\n",
    "\n",
    "for movie in movies:\n",
    "    name, budget = movie\n",
    "    if budget > average_budget:\n",
    "        difference = budget - average_budget\n",
    "        print(f\"- {name}: ${budget:,.0f} (which is ${difference:,.0f} above average)\")\n",
    "        above_average_count += 1\n",
    "\n",
    "print(f\"\\nNumber of movies above average budget: {above_average_count}\")\n"
   ]
  },
  {
   "cell_type": "code",
   "execution_count": 2,
   "id": "62b0ffe1",
   "metadata": {},
   "outputs": [
    {
     "name": "stdout",
     "output_type": "stream",
     "text": [
      "The random number is : 38\n",
      "The correct answer is :  Number\n",
      "And your hidden number is : 38\n",
      "The random number is : 25\n",
      "The correct answer is :  buzz\n",
      "And your hidden number is : 25\n",
      "Your final score is: 0\n",
      "Your final score is: 0\n"
     ]
    }
   ],
   "source": [
    "import random\n",
    "\n",
    "def get_answer(num):\n",
    "    if num % 3 == 0 and num % 5 == 0:\n",
    "        return \"fizzbuzz\"\n",
    "    elif num % 3 == 0:\n",
    "        return \"fizz\"\n",
    "    elif num % 5 == 0:\n",
    "        return \"buzz\"\n",
    "    else:\n",
    "        return \"Number\"\n",
    "\n",
    "def play():\n",
    "    backend = 0 \n",
    "    score=0\n",
    "    prev_no=0\n",
    "    while True:\n",
    "        no=random.randint(1, 50)\n",
    "        backend = prev_no+ no\n",
    "        print(\"The random number is :\", no)\n",
    "        guess = input(\"Your guess (fizz/buzz/fizzbuzz/Number): \").strip()\n",
    "        correct = get_answer(backend)\n",
    "        if guess.lower() == correct.lower():\n",
    "            print(\"Correct!\")\n",
    "            score += 1\n",
    "            prev_no = no\n",
    "        else:\n",
    "            print(\"The correct answer is : \", correct)\n",
    "            print(\"And your hidden number is :\", backend)\n",
    "            cont = input(\"Would you like to continue (yes/no): \").strip().lower()\n",
    "            if cont != \"yes\":\n",
    "                print(\"Your final score is:\", score)\n",
    "                score = 0\n",
    "                backend = 0\n",
    "                prev_no = 0\n",
    "                break\n",
    "    print(\"Your final score is:\", score)\n",
    "\n",
    "    \n",
    "play()"
   ]
  }
 ],
 "metadata": {
  "kernelspec": {
   "display_name": "base",
   "language": "python",
   "name": "python3"
  },
  "language_info": {
   "codemirror_mode": {
    "name": "ipython",
    "version": 3
   },
   "file_extension": ".py",
   "mimetype": "text/x-python",
   "name": "python",
   "nbconvert_exporter": "python",
   "pygments_lexer": "ipython3",
   "version": "3.12.7"
  }
 },
 "nbformat": 4,
 "nbformat_minor": 5
}

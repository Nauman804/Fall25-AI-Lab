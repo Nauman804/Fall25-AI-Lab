{
 "cells": [
  {
   "cell_type": "code",
   "execution_count": 2,
   "id": "db4074ec",
   "metadata": {},
   "outputs": [
    {
     "name": "stdout",
     "output_type": "stream",
     "text": [
      "dfs traversal:\n",
      "A B D E C "
     ]
    }
   ],
   "source": [
    "class Node:\n",
    "    def __init__(self, val):\n",
    "        self.val = val\n",
    "        self.neighbors = []\n",
    "\n",
    "def dfs_stack(start):\n",
    "    visited = set()\n",
    "    stack = [start]  \n",
    "\n",
    "    while stack:\n",
    "        node = stack.pop()  \n",
    "        if node not in visited:\n",
    "            print(node.val, end=\" \") \n",
    "            visited.add(node)\n",
    "\n",
    "            for n in reversed(node.neighbors):\n",
    "                if n not in visited:\n",
    "                    stack.append(n)\n",
    "\n",
    "a = Node(\"A\")\n",
    "b = Node(\"B\")\n",
    "c = Node(\"C\")\n",
    "d = Node(\"D\")\n",
    "e = Node(\"E\")\n",
    "\n",
    "a.neighbors = [b, c]\n",
    "b.neighbors = [d, e]\n",
    "c.neighbors = [e]\n",
    "d.neighbors = []\n",
    "e.neighbors = []\n",
    "\n",
    "print(\"dfs traversal:\")\n",
    "dfs_stack(a)\n"
   ]
  },
  {
   "cell_type": "code",
   "execution_count": 1,
   "id": "b721945e",
   "metadata": {},
   "outputs": [
    {
     "name": "stdout",
     "output_type": "stream",
     "text": [
      "Preorder Traversal:\n",
      "A B D E C F \n",
      "Inorder Traversal:\n",
      "D B E A C F \n",
      "Postorder Traversal:\n",
      "D E B F C A "
     ]
    }
   ],
   "source": [
    "class Node:\n",
    "    def __init__(self, val):\n",
    "        self.val = val\n",
    "        self.left = None\n",
    "        self.right = None\n",
    "\n",
    "def preorder(root):\n",
    "    if root:\n",
    "        print(root.val, end=\" \")\n",
    "        preorder(root.left)\n",
    "        preorder(root.right)\n",
    "\n",
    "def inorder(root):\n",
    "    if root:\n",
    "        inorder(root.left)\n",
    "        print(root.val, end=\" \")\n",
    "        inorder(root.right)\n",
    "\n",
    "def postorder(root):\n",
    "    if root:\n",
    "        postorder(root.left)\n",
    "        postorder(root.right)\n",
    "        print(root.val, end=\" \")\n",
    "\n",
    "a = Node(\"A\")\n",
    "b = Node(\"B\")\n",
    "c = Node(\"C\")\n",
    "d = Node(\"D\")\n",
    "e = Node(\"E\")\n",
    "f = Node(\"F\")\n",
    "\n",
    "a.left = b\n",
    "a.right = c\n",
    "b.left = d\n",
    "b.right = e\n",
    "c.right = f\n",
    "\n",
    "print(\"Preorder Traversal:\")\n",
    "preorder(a)\n",
    "\n",
    "print(\"\\nInorder Traversal:\")\n",
    "inorder(a)\n",
    "\n",
    "print(\"\\nPostorder Traversal:\")\n",
    "postorder(a)\n"
   ]
  }
 ],
 "metadata": {
  "kernelspec": {
   "display_name": "base",
   "language": "python",
   "name": "python3"
  },
  "language_info": {
   "codemirror_mode": {
    "name": "ipython",
    "version": 3
   },
   "file_extension": ".py",
   "mimetype": "text/x-python",
   "name": "python",
   "nbconvert_exporter": "python",
   "pygments_lexer": "ipython3",
   "version": "3.12.7"
  }
 },
 "nbformat": 4,
 "nbformat_minor": 5
}

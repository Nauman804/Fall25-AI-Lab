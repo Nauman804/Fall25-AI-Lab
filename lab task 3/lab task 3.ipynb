{
 "cells": [
  {
   "cell_type": "code",
   "execution_count": 14,
   "id": "2e6b9067",
   "metadata": {},
   "outputs": [
    {
     "name": "stdout",
     "output_type": "stream",
     "text": [
      "[Bedroom] Turning heater ON\n",
      "[Bedroom] Turning heater ON (from history rule)\n",
      "[Bedroom] Temperature is fine, keep Heater_On\n",
      "[Bedroom] Temperature is fine, keep Heater_On\n",
      "[Kitchen] Temperature is fine, keep None\n",
      "[Kitchen] Temperature is fine, keep None\n",
      "[Kitchen] Temperature is fine, keep None\n",
      "[Drawing Room] Temperature is fine, keep None\n",
      "[Drawing Room] Turning heater ON\n",
      "[Drawing Room] Temperature is fine, keep Heater_On\n"
     ]
    }
   ],
   "source": [
    "class TemperatureAgent:\n",
    "    def __init__(self, room_name, desired_temp):\n",
    "        self.room_name = room_name\n",
    "        self.desired_temp = desired_temp\n",
    "        self.last_action = None\n",
    "        self.history = [] \n",
    "\n",
    "    def take_action(self, current_temp):\n",
    "        self.history.append(current_temp)  \n",
    "\n",
    "        if current_temp == 20:\n",
    "            self.last_action = \"Heater_On\"\n",
    "            return f\"[{self.room_name}] Turning heater ON (from history rule)\"\n",
    "\n",
    "        if current_temp < self.desired_temp - 1:\n",
    "            if self.last_action != \"Heater_On\":\n",
    "                self.last_action = \"Heater_On\"\n",
    "                return f\"[{self.room_name}] Turning heater ON\"\n",
    "            else:\n",
    "                return f\"[{self.room_name}] Keep heater ON\"\n",
    "\n",
    "        elif current_temp > self.desired_temp + 1:\n",
    "            if self.last_action != \"Heater_Off\":\n",
    "                self.last_action = \"Heater_Off\"\n",
    "                return f\"[{self.room_name}] Turning heater OFF\"\n",
    "            else:\n",
    "                return f\"[{self.room_name}] Keep heater OFF\"\n",
    "\n",
    "        else:\n",
    "            return f\"[{self.room_name}] Temperature is fine, keep {self.last_action}\"\n",
    "\n",
    "\n",
    "# Har room ke liye agent banao\n",
    "bedroom = TemperatureAgent(\"Bedroom\", desired_temp=22)\n",
    "kitchen = TemperatureAgent(\"Kitchen\", desired_temp=24)\n",
    "drawing = TemperatureAgent(\"Drawing Room\", desired_temp=21)\n",
    "\n",
    "# Rooms ke temperatures (example)\n",
    "room_temps = {\n",
    "    \"Bedroom\": [18, 20, 22, 23],\n",
    "    \"Kitchen\": [25, 24, 23],\n",
    "    \"Drawing Room\": [21, 19, 22]\n",
    "}\n",
    "\n",
    "# Har room ka alag action\n",
    "for temp in room_temps[\"Bedroom\"]:\n",
    "    print(bedroom.take_action(temp))\n",
    "\n",
    "for temp in room_temps[\"Kitchen\"]:\n",
    "    print(kitchen.take_action(temp))\n",
    "\n",
    "for temp in room_temps[\"Drawing Room\"]:\n",
    "    print(drawing.take_action(temp))\n"
   ]
  }
 ],
 "metadata": {
  "kernelspec": {
   "display_name": "base",
   "language": "python",
   "name": "python3"
  },
  "language_info": {
   "codemirror_mode": {
    "name": "ipython",
    "version": 3
   },
   "file_extension": ".py",
   "mimetype": "text/x-python",
   "name": "python",
   "nbconvert_exporter": "python",
   "pygments_lexer": "ipython3",
   "version": "3.12.7"
  }
 },
 "nbformat": 4,
 "nbformat_minor": 5
}

{
 "cells": [
  {
   "cell_type": "code",
   "execution_count": 3,
   "id": "bfcdbb50",
   "metadata": {},
   "outputs": [
    {
     "name": "stdout",
     "output_type": "stream",
     "text": [
      "The Optimal Value is: 5\n"
     ]
    }
   ],
   "source": [
    "import math\n",
    "\n",
    "def minimax(depth, node_index, is_max_turn, scores, target_depth):\n",
    "\n",
    "    if depth == target_depth:\n",
    "        return scores[node_index]\n",
    "\n",
    "    if is_max_turn:\n",
    "        left_value = minimax(depth + 1, node_index * 2, False, scores, target_depth)\n",
    "        right_value = minimax(depth + 1, node_index * 2 + 1, False, scores, target_depth)\n",
    "        return max(left_value, right_value)\n",
    "    else:\n",
    "        left_value = minimax(depth + 1, node_index * 2, True, scores, target_depth)\n",
    "        right_value = minimax(depth + 1, node_index * 2 + 1, True, scores, target_depth)\n",
    "        return min(left_value, right_value)\n",
    "\n",
    "if __name__ == \"__main__\":\n",
    "    scores = [3, 5, 2, 9, 3, 5, 2, 9]\n",
    "    tree_depth = int(math.log(len(scores), 2))\n",
    "    print(\"The Optimal Value is:\", minimax(0, 0, True, scores, tree_depth))\n"
   ]
  }
 ],
 "metadata": {
  "kernelspec": {
   "display_name": "base",
   "language": "python",
   "name": "python3"
  },
  "language_info": {
   "codemirror_mode": {
    "name": "ipython",
    "version": 3
   },
   "file_extension": ".py",
   "mimetype": "text/x-python",
   "name": "python",
   "nbconvert_exporter": "python",
   "pygments_lexer": "ipython3",
   "version": "3.12.7"
  }
 },
 "nbformat": 4,
 "nbformat_minor": 5
}
